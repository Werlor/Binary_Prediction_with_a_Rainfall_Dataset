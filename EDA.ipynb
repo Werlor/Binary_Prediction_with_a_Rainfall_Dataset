{
 "cells": [
  {
   "cell_type": "code",
   "execution_count": 14,
   "id": "d978a27b-6215-49be-8c05-799c941c7b04",
   "metadata": {
    "collapsed": true,
    "jupyter": {
     "outputs_hidden": true
    }
   },
   "outputs": [
    {
     "name": "stdout",
     "output_type": "stream",
     "text": [
      "Collecting catboostNote: you may need to restart the kernel to use updated packages.\n",
      "\n",
      "  Using cached catboost-1.2.7-cp310-cp310-win_amd64.whl.metadata (1.2 kB)\n",
      "Collecting graphviz (from catboost)\n",
      "  Using cached graphviz-0.20.3-py3-none-any.whl.metadata (12 kB)\n",
      "Requirement already satisfied: matplotlib in d:\\python\\project\\binary_prediction_with_a_rainfall_dataset\\venv\\lib\\site-packages (from catboost) (3.10.1)\n",
      "Collecting numpy<2.0,>=1.16.0 (from catboost)\n",
      "  Using cached numpy-1.26.4-cp310-cp310-win_amd64.whl.metadata (61 kB)\n",
      "Requirement already satisfied: pandas>=0.24 in d:\\python\\project\\binary_prediction_with_a_rainfall_dataset\\venv\\lib\\site-packages (from catboost) (2.2.3)\n",
      "Requirement already satisfied: scipy in d:\\python\\project\\binary_prediction_with_a_rainfall_dataset\\venv\\lib\\site-packages (from catboost) (1.15.2)\n",
      "Collecting plotly (from catboost)\n",
      "  Using cached plotly-6.0.0-py3-none-any.whl.metadata (5.6 kB)\n",
      "Requirement already satisfied: six in d:\\python\\project\\binary_prediction_with_a_rainfall_dataset\\venv\\lib\\site-packages (from catboost) (1.17.0)\n",
      "Requirement already satisfied: python-dateutil>=2.8.2 in d:\\python\\project\\binary_prediction_with_a_rainfall_dataset\\venv\\lib\\site-packages (from pandas>=0.24->catboost) (2.9.0.post0)\n",
      "Requirement already satisfied: pytz>=2020.1 in d:\\python\\project\\binary_prediction_with_a_rainfall_dataset\\venv\\lib\\site-packages (from pandas>=0.24->catboost) (2025.1)\n",
      "Requirement already satisfied: tzdata>=2022.7 in d:\\python\\project\\binary_prediction_with_a_rainfall_dataset\\venv\\lib\\site-packages (from pandas>=0.24->catboost) (2025.1)\n",
      "Requirement already satisfied: contourpy>=1.0.1 in d:\\python\\project\\binary_prediction_with_a_rainfall_dataset\\venv\\lib\\site-packages (from matplotlib->catboost) (1.3.1)\n",
      "Requirement already satisfied: cycler>=0.10 in d:\\python\\project\\binary_prediction_with_a_rainfall_dataset\\venv\\lib\\site-packages (from matplotlib->catboost) (0.12.1)\n",
      "Requirement already satisfied: fonttools>=4.22.0 in d:\\python\\project\\binary_prediction_with_a_rainfall_dataset\\venv\\lib\\site-packages (from matplotlib->catboost) (4.56.0)\n",
      "Requirement already satisfied: kiwisolver>=1.3.1 in d:\\python\\project\\binary_prediction_with_a_rainfall_dataset\\venv\\lib\\site-packages (from matplotlib->catboost) (1.4.8)\n",
      "Requirement already satisfied: packaging>=20.0 in d:\\python\\project\\binary_prediction_with_a_rainfall_dataset\\venv\\lib\\site-packages (from matplotlib->catboost) (24.2)\n",
      "Requirement already satisfied: pillow>=8 in d:\\python\\project\\binary_prediction_with_a_rainfall_dataset\\venv\\lib\\site-packages (from matplotlib->catboost) (11.1.0)\n",
      "Requirement already satisfied: pyparsing>=2.3.1 in d:\\python\\project\\binary_prediction_with_a_rainfall_dataset\\venv\\lib\\site-packages (from matplotlib->catboost) (3.2.1)\n",
      "Collecting narwhals>=1.15.1 (from plotly->catboost)\n",
      "  Downloading narwhals-1.29.0-py3-none-any.whl.metadata (10 kB)\n",
      "Using cached catboost-1.2.7-cp310-cp310-win_amd64.whl (101.8 MB)\n",
      "Using cached numpy-1.26.4-cp310-cp310-win_amd64.whl (15.8 MB)\n",
      "Using cached graphviz-0.20.3-py3-none-any.whl (47 kB)\n",
      "Using cached plotly-6.0.0-py3-none-any.whl (14.8 MB)\n",
      "Downloading narwhals-1.29.0-py3-none-any.whl (305 kB)\n",
      "   ---------------------------------------- 0.0/305.2 kB ? eta -:--:--\n",
      "   - -------------------------------------- 10.2/305.2 kB ? eta -:--:--\n",
      "   ---- ----------------------------------- 30.7/305.2 kB 1.3 MB/s eta 0:00:01\n",
      "   ------- ------------------------------- 61.4/305.2 kB 465.5 kB/s eta 0:00:01\n",
      "   -------------- ----------------------- 112.6/305.2 kB 652.2 kB/s eta 0:00:01\n",
      "   --------------- ---------------------- 122.9/305.2 kB 599.1 kB/s eta 0:00:01\n",
      "   ------------------------- ------------ 204.8/305.2 kB 778.2 kB/s eta 0:00:01\n",
      "   ------------------------------ ------- 245.8/305.2 kB 885.4 kB/s eta 0:00:01\n",
      "   ------------------------------------ - 297.0/305.2 kB 833.5 kB/s eta 0:00:01\n",
      "   ------------------------------------ - 297.0/305.2 kB 833.5 kB/s eta 0:00:01\n",
      "   -------------------------------------- 305.2/305.2 kB 699.0 kB/s eta 0:00:00\n",
      "Installing collected packages: numpy, narwhals, graphviz, plotly, catboost\n",
      "  Attempting uninstall: numpy\n",
      "    Found existing installation: numpy 2.2.3\n",
      "    Uninstalling numpy-2.2.3:\n",
      "      Successfully uninstalled numpy-2.2.3\n",
      "Successfully installed catboost-1.2.7 graphviz-0.20.3 narwhals-1.29.0 numpy-1.26.4 plotly-6.0.0\n"
     ]
    },
    {
     "name": "stderr",
     "output_type": "stream",
     "text": [
      "  WARNING: Failed to remove contents in a temporary directory 'D:\\Python\\project\\Binary_Prediction_with_a_Rainfall_Dataset\\venv\\Lib\\site-packages\\~umpy.libs'.\n",
      "  You can safely remove it manually.\n",
      "  WARNING: Failed to remove contents in a temporary directory 'D:\\Python\\project\\Binary_Prediction_with_a_Rainfall_Dataset\\venv\\Lib\\site-packages\\~umpy'.\n",
      "  You can safely remove it manually.\n",
      "\n",
      "[notice] A new release of pip is available: 24.0 -> 25.0.1\n",
      "[notice] To update, run: python.exe -m pip install --upgrade pip\n"
     ]
    }
   ],
   "source": [
    "pip install catboost"
   ]
  },
  {
   "cell_type": "code",
   "execution_count": 1,
   "id": "c18708ba-184e-4de6-919b-dbb534b4dac5",
   "metadata": {},
   "outputs": [],
   "source": [
    "import pandas as pd\n",
    "import numpy as np\n",
    "import matplotlib as plt\n",
    "import seaborn as sns\n",
    "\n",
    "from sklearn.model_selection import train_test_split\n",
    "from catboost import CatBoostClassifier\n",
    "from sklearn.metrics import roc_auc_score"
   ]
  },
  {
   "cell_type": "code",
   "execution_count": 2,
   "id": "4e62a0e8-389c-40d0-845c-761dc3538e21",
   "metadata": {},
   "outputs": [],
   "source": [
    "df_train = pd.read_csv('data/train.csv')\n",
    "df_test = pd.read_csv('data/test.csv')\n",
    "df_Rainfall = pd.read_csv('data/Rainfall.csv')\n",
    "\n",
    "id_test = df_test['id']"
   ]
  },
  {
   "cell_type": "markdown",
   "id": "0d66a5e0-cb85-4569-af24-5af378ad94a9",
   "metadata": {},
   "source": [
    "## Признаки:\n",
    "- id (Порядковый номер)\n",
    "- day (День года)\n",
    "- pressure (Давление)\n",
    "- maxtemp (Максимальная температура)\n",
    "- temparature (Средняя температура)\n",
    "- mintemp (Минимальная температура)\n",
    "- dewpoint (Точка росы. Это температура, при которой атмосфера насыщается водяным паром при охлаждении без изменения давления или содержания пара.)\n",
    "- humidity (Влажность)\n",
    "- cloud (Облачность)\n",
    "- sunshine (Солнечный свет)\n",
    "- winddirection (Направление ветра)\n",
    "- windspeed (Скорость ветра)\n",
    "- rainfall (Осадки) - Целевой признак\n",
    "\n",
    "\n",
    "в df_test['winddirection'] одно nan значение (заменяю на 0, отсутствие ветра) попробывать другие варианты\n",
    "\n",
    "в df_Rainfall['winddirection'] одно nan значение и название с пробелами\n",
    "\n",
    "в df_Rainfall['windspeed'] одно nan значение\n",
    "\n",
    "типы данных различаются в df_train и df_Rainfall"
   ]
  },
  {
   "cell_type": "code",
   "execution_count": 4,
   "id": "e642a90a-72df-4646-a54f-4a74066dbef3",
   "metadata": {},
   "outputs": [],
   "source": [
    "df_test['winddirection'] = df_test['winddirection'].fillna(0)\n",
    "\n",
    "df_Rainfall.rename(columns={'         winddirection': 'winddirection'}, inplace=True)\n",
    "\n"
   ]
  },
  {
   "cell_type": "code",
   "execution_count": null,
   "id": "259860d6-bc40-405e-a675-4f8345383be6",
   "metadata": {},
   "outputs": [],
   "source": []
  },
  {
   "cell_type": "code",
   "execution_count": null,
   "id": "de084e84-f091-4ca5-81a6-b447a91d05fa",
   "metadata": {},
   "outputs": [],
   "source": []
  },
  {
   "cell_type": "code",
   "execution_count": null,
   "id": "de020814-b3a9-4fa6-8531-f31c5e7c021e",
   "metadata": {},
   "outputs": [],
   "source": []
  },
  {
   "cell_type": "code",
   "execution_count": 19,
   "id": "ee812d7c-3f95-4a3f-96c6-71db98a4303e",
   "metadata": {},
   "outputs": [
    {
     "data": {
      "text/plain": [
       "day                int64\n",
       "pressure         float64\n",
       "maxtemp          float64\n",
       "temparature      float64\n",
       "mintemp          float64\n",
       "dewpoint         float64\n",
       "humidity           int64\n",
       "cloud              int64\n",
       "rainfall          object\n",
       "sunshine         float64\n",
       "winddirection    float64\n",
       "windspeed        float64\n",
       "dtype: object"
      ]
     },
     "execution_count": 19,
     "metadata": {},
     "output_type": "execute_result"
    }
   ],
   "source": [
    "df_Rainfall.dtypes"
   ]
  },
  {
   "cell_type": "code",
   "execution_count": 18,
   "id": "ebb5950f-a396-4baf-bda3-99a5160652fb",
   "metadata": {},
   "outputs": [
    {
     "data": {
      "text/plain": [
       "day                int64\n",
       "pressure         float64\n",
       "maxtemp          float64\n",
       "temparature      float64\n",
       "mintemp          float64\n",
       "dewpoint         float64\n",
       "humidity         float64\n",
       "cloud            float64\n",
       "sunshine         float64\n",
       "winddirection    float64\n",
       "windspeed        float64\n",
       "rainfall           int64\n",
       "dtype: object"
      ]
     },
     "execution_count": 18,
     "metadata": {},
     "output_type": "execute_result"
    }
   ],
   "source": [
    "df_train.dtypes"
   ]
  },
  {
   "cell_type": "code",
   "execution_count": 16,
   "id": "2a6907bb-f449-4532-bfe9-4e5acfb925a5",
   "metadata": {},
   "outputs": [
    {
     "data": {
      "text/plain": [
       "winddirection\n",
       "20.0     47\n",
       "70.0     39\n",
       "40.0     33\n",
       "50.0     32\n",
       "220.0    27\n",
       "60.0     24\n",
       "80.0     23\n",
       "230.0    20\n",
       "30.0     17\n",
       "10.0     15\n",
       "200.0    10\n",
       "190.0     9\n",
       "240.0     8\n",
       "100.0     7\n",
       "90.0      7\n",
       "180.0     6\n",
       "210.0     6\n",
       "130.0     5\n",
       "110.0     4\n",
       "170.0     3\n",
       "120.0     3\n",
       "160.0     3\n",
       "270.0     3\n",
       "300.0     2\n",
       "150.0     2\n",
       "280.0     2\n",
       "250.0     2\n",
       "290.0     2\n",
       "140.0     2\n",
       "260.0     1\n",
       "350.0     1\n",
       "Name: count, dtype: int64"
      ]
     },
     "execution_count": 16,
     "metadata": {},
     "output_type": "execute_result"
    }
   ],
   "source": [
    "df_Rainfall['winddirection'].value_counts()"
   ]
  },
  {
   "cell_type": "code",
   "execution_count": 5,
   "id": "5bc80836-0715-45f8-8257-2a265e3ea229",
   "metadata": {},
   "outputs": [],
   "source": [
    "df_train.drop(columns='id', inplace=True)\n",
    "df_test.drop(columns='id', inplace=True)"
   ]
  },
  {
   "cell_type": "code",
   "execution_count": 6,
   "id": "3d06c300-27a5-441f-8502-a7db3d06747f",
   "metadata": {},
   "outputs": [],
   "source": [
    "X = df_train.drop(columns='rainfall')\n",
    "y = df_train['rainfall']\n",
    "\n",
    "X_train, X_test, y_train, y_test = train_test_split(X, y, test_size=0.2, random_state=42)"
   ]
  },
  {
   "cell_type": "code",
   "execution_count": 7,
   "id": "9c04bcad-23d0-4b4d-b975-5bc74ccdf41b",
   "metadata": {},
   "outputs": [
    {
     "name": "stdout",
     "output_type": "stream",
     "text": [
      "0.7811438054845763\n",
      "              precision    recall  f1-score   support\n",
      "\n",
      "           0       0.80      0.62      0.70       119\n",
      "           1       0.87      0.94      0.90       319\n",
      "\n",
      "    accuracy                           0.85       438\n",
      "   macro avg       0.83      0.78      0.80       438\n",
      "weighted avg       0.85      0.85      0.85       438\n",
      "\n"
     ]
    }
   ],
   "source": [
    "model = CatBoostClassifier(verbose = 0)\n",
    "\n",
    "model.fit(X_train, y_train)\n",
    "y_pred = model.predict(X_test)\n",
    "print(roc_auc_score(y_test, y_pred))"
   ]
  },
  {
   "cell_type": "code",
   "execution_count": 8,
   "id": "dddf177c-9164-40ff-bf72-26f66c4ca333",
   "metadata": {},
   "outputs": [],
   "source": [
    "pred = model.predict(df_test)"
   ]
  },
  {
   "cell_type": "code",
   "execution_count": 9,
   "id": "a71acf92-c498-49fe-92c8-14d75c38c15e",
   "metadata": {},
   "outputs": [],
   "source": [
    "output = pd.DataFrame({'id': id_test, 'rainfall': pred})\n",
    "output.to_csv('data/cat_model.csv', index=False)"
   ]
  },
  {
   "cell_type": "code",
   "execution_count": null,
   "id": "3668d56c-c8fe-4eee-97ec-b6aef7a86dbd",
   "metadata": {},
   "outputs": [],
   "source": []
  }
 ],
 "metadata": {
  "kernelspec": {
   "display_name": "Python 3 (ipykernel)",
   "language": "python",
   "name": "python3"
  },
  "language_info": {
   "codemirror_mode": {
    "name": "ipython",
    "version": 3
   },
   "file_extension": ".py",
   "mimetype": "text/x-python",
   "name": "python",
   "nbconvert_exporter": "python",
   "pygments_lexer": "ipython3",
   "version": "3.10.11"
  }
 },
 "nbformat": 4,
 "nbformat_minor": 5
}
